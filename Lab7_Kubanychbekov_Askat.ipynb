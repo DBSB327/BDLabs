{
 "cells": [
  {
   "cell_type": "markdown",
   "id": "a12e8b8f-0e93-4611-9957-c438d81a3ddc",
   "metadata": {},
   "source": [
    "__Кубанычбеков Аскат AIN-3-21__"
   ]
  },
  {
   "cell_type": "markdown",
   "id": "242368d0-158d-4a45-b8e6-30c052d9dfbd",
   "metadata": {},
   "source": [
    "__№1__"
   ]
  },
  {
   "cell_type": "code",
   "execution_count": null,
   "id": "c74fa180-2448-4c3d-8e43-d97016c8b129",
   "metadata": {},
   "outputs": [],
   "source": [
    "from sklearn.datasets import load_files\n",
    "\n",
    "\n",
    "reviews_train = load_files(r\"C:\\Users\\kaska\\BigData\\DS\\aclImdb\\train\")\n",
    "text_train, y_train = reviews_train.data, reviews_train.target\n"
   ]
  },
  {
   "cell_type": "code",
   "execution_count": null,
   "id": "8069dbd3-1d80-4acb-b6b9-6ecc3ee269ee",
   "metadata": {},
   "outputs": [],
   "source": [
    "text_train = [doc.replace(b\"<br />\", b\" \") for doc in text_train]"
   ]
  },
  {
   "cell_type": "code",
   "execution_count": null,
   "id": "bc0f30b9-5268-40ec-8fe1-e8385ff51664",
   "metadata": {},
   "outputs": [],
   "source": [
    "reviews_test = load_files(r\"C:\\Users\\kaska\\BigData\\DS\\aclImdb\\test\")\n",
    "text_test, y_test = reviews_test.data, reviews_test.target\n",
    "text_test = [doc.replace(b\"<br />\", b\" \") for doc in text_test]"
   ]
  },
  {
   "cell_type": "code",
   "execution_count": null,
   "id": "ae2494e2-f607-40a3-a9cf-2a752ab30178",
   "metadata": {},
   "outputs": [],
   "source": [
    "from sklearn.feature_extraction.text import CountVectorizer\n",
    "\n",
    "vect = CountVectorizer(max_features = 10000, max_df = .15)\n",
    "X = vect.fit_transform(text_train)"
   ]
  },
  {
   "cell_type": "code",
   "execution_count": null,
   "id": "2c688ef9-0e9f-4bcb-856d-5b4f78d53c96",
   "metadata": {},
   "outputs": [],
   "source": [
    "from sklearn.decomposition import LatentDirichletAllocation\n",
    "lda = LatentDirichletAllocation(n_components = 10, learning_method = \"batch\", max_iter = 10, random_state = 0)\n",
    "document_topics = lda.fit_transform(X)"
   ]
  },
  {
   "cell_type": "code",
   "execution_count": null,
   "id": "00e6d6c1-8f55-47be-b897-e31198f670cf",
   "metadata": {},
   "outputs": [],
   "source": [
    "lda.components_.shape"
   ]
  },
  {
   "cell_type": "code",
   "execution_count": null,
   "id": "cfe6c035-056a-4597-8bb0-af308187242d",
   "metadata": {},
   "outputs": [],
   "source": [
    "string = np.argsort(lda.components_, axis = 1)[:, ::-1]\n",
    "feature_names = np.array(vect.get_feature_names_out())"
   ]
  },
  {
   "cell_type": "code",
   "execution_count": null,
   "id": "d393ee75-c638-4379-b247-2faa3663aef8",
   "metadata": {},
   "outputs": [],
   "source": [
    "import mglearn\n",
    "\n",
    "mglearn.tools.print_topics(topics=range(10), feature_names = feature_names\n",
    "sorting = sorting, topics_per_chunk = 5, n_words = 10)"
   ]
  },
  {
   "cell_type": "code",
   "execution_count": null,
   "id": "5c7123d5-5463-47c3-a2b8-8514789745cd",
   "metadata": {},
   "outputs": [],
   "source": [
    "lda100 = LatentDirichletAllocation(n_components = 100, learning_method = \"batch\", max_iter = 10, random_state = 0)\n",
    "document_topics100 = lda100.fit_transform(X)"
   ]
  },
  {
   "cell_type": "code",
   "execution_count": null,
   "id": "c6a9eb25-2eaf-4a84-8cb0-2204f4dbcdef",
   "metadata": {},
   "outputs": [],
   "source": [
    "import numpy as np\n",
    "\n",
    "topics = np.array([7,16,24,25,28,36,37,45,51,53,54,63,89,97])\n",
    "\n",
    "sorting = np.argsort(lda100.components_, axis = 1)[:, ::-1]\n",
    "feature_names = np.array(vect.get_feature_names_out())\n",
    "mglearn.tools.pring_topics(topics = topics, feature_names = feature_names, sorting = sorting, topics_per_chunk = 7, n_words = 20)"
   ]
  },
  {
   "cell_type": "code",
   "execution_count": null,
   "id": "dcf8fc03-26cd-4a37-b12c-40a77059c66d",
   "metadata": {},
   "outputs": [],
   "source": [
    "music = np.argsort(document_topics100[:, :45])(::-1)\n",
    "\n",
    "for i in music[:10]:\n",
    "    print(b\"\".join(text_train[i].split(b\".\")[:2]) + b\".\\n\")"
   ]
  },
  {
   "cell_type": "code",
   "execution_count": null,
   "id": "ff9c90f9-b9e7-4955-a3d7-890bd6855874",
   "metadata": {},
   "outputs": [],
   "source": [
    "import matplotlib.pyplot as plt\n",
    "fig, ax = plt.subplots(1,2, figsize = (10, 10))\n",
    "topic_names = [\"{:>2}\".format(i) + \" \".join(words)\n",
    "              for i, words in enumerate(feature_names[sorting[:,:2]])]\n",
    "\n",
    "for col in [0,1]:\n",
    "    start = col * 50\n",
    "    end = (col + 1) * 50\n",
    "    ax[col].barh(np.arange(50).np.sum(document_topics100, axis = 0)[start:end])\n",
    "    ex[col].set_yticks(np.arange(50))\n",
    "    ax[col].set_yticklabels(topic_names[start:end], ha = \"left\", va = \"top\")\n",
    "    ax[col].invert_yaxis()\n",
    "    ax[col].set_xlim(0,2000)\n",
    "    yax = ax[col].get_yaxis()\n",
    "    yax.set_tick_params(pad = 130)\n",
    "plt.tight_layout()"
   ]
  },
  {
   "cell_type": "markdown",
   "id": "4c071ca8-276d-404c-ac78-2f60038fa730",
   "metadata": {},
   "source": [
    "__№2__"
   ]
  },
  {
   "cell_type": "code",
   "execution_count": 43,
   "id": "100ea550-5800-4f81-8f1b-71456082692d",
   "metadata": {},
   "outputs": [],
   "source": [
    "from sklearn.feature_extraction.text import CountVectorizer, TfidfTransformer\n",
    "from sklearn.linear_model import LogisticRegression\n",
    "import pandas as pd\n",
    "\n",
    "steam_reviews = [\n",
    "    \"Excellent game! Exciting gameplay and beautiful graphics.\",\n",
    "    \"Do not recommend this game, lots of bugs and low-quality graphics.\",\n",
    "    \"The game is awesome! Lots of content and interesting quests.\",\n",
    "    \"Expected more, gameplay became boring quickly.\",\n",
    "    \"Great game, hoping for long-term developer support.\",\n",
    "    \"Complete disappointment, the game is raw and not optimized.\",\n",
    "    \"The best game I've played in a long time!\",\n",
    "    \"Not worth the money, many bugs and lack of new content.\",\n",
    "    \"Great multiplayer mode, play with friends every evening.\",\n",
    "    \"Amazing graphics, but the storyline is not impressive.\",\n",
    "    \"Exciting game, discover something new every time.\",\n",
    "    \"Do not recommend, gets boring quickly.\",\n",
    "    \"The game world is huge, but there are many flaws.\",\n",
    "    \"Great storyline, looking forward to new chapters!\",\n",
    "    \"The storyline is cliché, but the gameplay is impressive.\",\n",
    "    \"Well-optimized game, even on a low-end PC.\",\n",
    "    \"Did not like it, do not recommend.\",\n",
    "    \"The game is fantastic, every aspect is well-thought-out.\",\n",
    "    \"The storyline is uninteresting, but the multiplayer is fun.\",\n",
    "    \"Very challenging game, but captivating.\"\n",
    "]"
   ]
  },
  {
   "cell_type": "markdown",
   "id": "c2671099-db62-4112-b8d8-010f81ada2c9",
   "metadata": {},
   "source": [
    "__№3__"
   ]
  },
  {
   "cell_type": "code",
   "execution_count": null,
   "id": "c5cf0bef-7c0a-4cb3-8402-ffbe35e31ef4",
   "metadata": {},
   "outputs": [],
   "source": [
    "#Тут basic stop-слова из библиотеки scikit-learn\n",
    "vectorizer = CountVectorizer(stop_words=\"english\")\n",
    "X_bag_of_words = vectorizer.fit_transform(steam_reviews)"
   ]
  },
  {
   "cell_type": "markdown",
   "id": "cfb78f28-ae63-4051-b5ae-27d472e607ad",
   "metadata": {},
   "source": [
    "__№4__"
   ]
  },
  {
   "cell_type": "code",
   "execution_count": 44,
   "id": "63cbda09-b6b5-4f3b-a4c7-01c1ca53ec54",
   "metadata": {},
   "outputs": [
    {
     "ename": "NameError",
     "evalue": "name 'X_bag_of_words' is not defined",
     "output_type": "error",
     "traceback": [
      "\u001b[1;31m---------------------------------------------------------------------------\u001b[0m",
      "\u001b[1;31mNameError\u001b[0m                                 Traceback (most recent call last)",
      "Cell \u001b[1;32mIn[44], line 2\u001b[0m\n\u001b[0;32m      1\u001b[0m tfidf_transformer \u001b[38;5;241m=\u001b[39m TfidfTransformer()\n\u001b[1;32m----> 2\u001b[0m X_tfidf \u001b[38;5;241m=\u001b[39m tfidf_transformer\u001b[38;5;241m.\u001b[39mfit_transform(\u001b[43mX_bag_of_words\u001b[49m)\n",
      "\u001b[1;31mNameError\u001b[0m: name 'X_bag_of_words' is not defined"
     ]
    }
   ],
   "source": [
    "tfidf_transformer = TfidfTransformer()\n",
    "X_tfidf = tfidf_transformer.fit_transform(X_bag_of_words)"
   ]
  },
  {
   "cell_type": "code",
   "execution_count": null,
   "id": "f8f9d2dc-38af-4962-b3df-590c108eaa89",
   "metadata": {},
   "outputs": [],
   "source": [
    "y_labels = [1, 0, 1, 0, 1, 0, 1, 0, 1, 0, 1, 0, 0, 1, 1, 1, 0, 1, 0, 1]\n",
    "\n",
    "model = LogisticRegression()\n",
    "model.fit(X_tfidf, y_labels)"
   ]
  },
  {
   "cell_type": "code",
   "execution_count": null,
   "id": "2232af9c-fea8-40dd-b96a-188c975a528c",
   "metadata": {},
   "outputs": [],
   "source": [
    "__"
   ]
  },
  {
   "cell_type": "code",
   "execution_count": null,
   "id": "5e31cc56-88d4-4f39-828c-a2b2b5ad756d",
   "metadata": {},
   "outputs": [],
   "source": [
    "coefficients = pd.DataFrame({'Word': vectorizer.get_feature_names_out(), 'Coefficient': model.coef_[0]})\n",
    "coefficients = coefficients.sort_values(by='Coefficient', ascending=False)\n",
    "print(\"Bag of words (first 5 elements):\", vectorizer.get_feature_names_out()[:5])\n",
    "print(\"\\nTop 5 positive and negative coefficients:\")\n",
    "print(coefficients.head(5))\n",
    "print(coefficients.tail(5))\n"
   ]
  },
  {
   "cell_type": "code",
   "execution_count": null,
   "id": "dfddd11b-682d-438c-89cc-fb85863b4ddc",
   "metadata": {},
   "outputs": [],
   "source": []
  },
  {
   "cell_type": "code",
   "execution_count": null,
   "id": "e4c242fa-9d45-49e5-a725-2ee4a6cf29ee",
   "metadata": {},
   "outputs": [],
   "source": []
  },
  {
   "cell_type": "code",
   "execution_count": null,
   "id": "b149c6c0-36fc-460c-bc4d-95ee86863ef1",
   "metadata": {},
   "outputs": [],
   "source": []
  },
  {
   "cell_type": "code",
   "execution_count": null,
   "id": "18a5e3bd-35e8-4022-9799-8407afecd822",
   "metadata": {},
   "outputs": [],
   "source": []
  },
  {
   "cell_type": "code",
   "execution_count": null,
   "id": "3dd5030f-d95b-4ffe-9628-ee88984ba8eb",
   "metadata": {},
   "outputs": [],
   "source": []
  },
  {
   "cell_type": "code",
   "execution_count": null,
   "id": "454e6a29-bb7c-4eef-b60c-c6aba826705b",
   "metadata": {},
   "outputs": [],
   "source": []
  },
  {
   "cell_type": "code",
   "execution_count": null,
   "id": "8f2e37d0-16d6-4071-9bc4-268887055e8d",
   "metadata": {},
   "outputs": [],
   "source": []
  },
  {
   "cell_type": "code",
   "execution_count": null,
   "id": "3a9b0817-8062-4d17-882e-c0cfbd35229b",
   "metadata": {},
   "outputs": [],
   "source": []
  },
  {
   "cell_type": "code",
   "execution_count": null,
   "id": "efec4617-6008-42c2-8f40-19dcf08cde03",
   "metadata": {},
   "outputs": [],
   "source": []
  },
  {
   "cell_type": "code",
   "execution_count": null,
   "id": "468e7e2e-10bc-439b-815c-d14d4c663a40",
   "metadata": {},
   "outputs": [],
   "source": []
  }
 ],
 "metadata": {
  "kernelspec": {
   "display_name": "Python 3 (ipykernel)",
   "language": "python",
   "name": "python3"
  },
  "language_info": {
   "codemirror_mode": {
    "name": "ipython",
    "version": 3
   },
   "file_extension": ".py",
   "mimetype": "text/x-python",
   "name": "python",
   "nbconvert_exporter": "python",
   "pygments_lexer": "ipython3",
   "version": "3.11.4"
  }
 },
 "nbformat": 4,
 "nbformat_minor": 5
}
